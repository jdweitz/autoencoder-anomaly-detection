{
  "nbformat": 4,
  "nbformat_minor": 0,
  "metadata": {
    "colab": {
      "provenance": [],
      "collapsed_sections": [
        "4YiazG5ppbV3"
      ],
      "authorship_tag": "ABX9TyMdsPEfQSJ/SL20VT5sg9oz"
    },
    "kernelspec": {
      "name": "python3",
      "display_name": "Python 3"
    },
    "language_info": {
      "name": "python"
    }
  },
  "cells": [
    {
      "cell_type": "markdown",
      "source": [
        "# Imports"
      ],
      "metadata": {
        "id": "qWRSf4EtpY7R"
      }
    },
    {
      "cell_type": "code",
      "execution_count": 1,
      "metadata": {
        "colab": {
          "base_uri": "https://localhost:8080/"
        },
        "id": "UV3wTMFgn6qe",
        "outputId": "fcd3f5ec-3f43-4a41-db40-57c07f387c5d"
      },
      "outputs": [
        {
          "output_type": "stream",
          "name": "stdout",
          "text": [
            "Mounted at /content/drive\n"
          ]
        }
      ],
      "source": [
        "from google.colab import drive\n",
        "drive.mount('/content/drive')\n",
        "path = '/content/drive/MyDrive/AE/Sparse_AE/jetnet/'"
      ]
    },
    {
      "cell_type": "code",
      "source": [
        "from torch.utils.data import random_split, Dataset, DataLoader\n",
        "import pandas as pd\n",
        "import numpy as np\n",
        "import h5py\n",
        "from sklearn.preprocessing import StandardScaler\n",
        "from sklearn.model_selection import train_test_split\n",
        "import torch\n",
        "import torch.optim as optim\n",
        "import torch.nn as nn\n",
        "import torch.nn.functional as F\n",
        "from torchvision import transforms\n",
        "import matplotlib.pyplot as plt\n",
        "from sklearn.metrics import roc_curve, auc, mean_absolute_error\n",
        "import torch.nn.utils.prune as prune\n",
        "import copy\n",
        "from torch.optim.lr_scheduler import ReduceLROnPlateau"
      ],
      "metadata": {
        "id": "104rAp-ppC7Q"
      },
      "execution_count": 2,
      "outputs": []
    },
    {
      "cell_type": "markdown",
      "source": [
        "# File Viewing"
      ],
      "metadata": {
        "id": "4YiazG5ppbV3"
      }
    },
    {
      "cell_type": "code",
      "source": [
        "def print_structure(file_name):\n",
        "    with h5py.File(file_name, 'r') as f:\n",
        "        f.visititems(print_item)\n",
        "\n",
        "def print_item(name, obj):\n",
        "    if isinstance(obj, h5py.Dataset):\n",
        "        print(name, obj.shape, obj.dtype)\n",
        "    elif isinstance(obj, h5py.Group):\n",
        "        print(name)\n",
        "\n",
        "file_name = path + 't.hdf5'\n",
        "print_structure(file_name)"
      ],
      "metadata": {
        "colab": {
          "base_uri": "https://localhost:8080/"
        },
        "id": "5r_2rf02pJ1J",
        "outputId": "6b5dbeaf-f463-4047-9ef5-d93fc318dfb4"
      },
      "execution_count": null,
      "outputs": [
        {
          "output_type": "stream",
          "name": "stdout",
          "text": [
            "jet_features (177945, 4) float32\n",
            "particle_features (177945, 30, 4) float32\n"
          ]
        }
      ]
    },
    {
      "cell_type": "code",
      "source": [
        "with h5py.File(file_name, 'r') as f:\n",
        "    jet_features_data = f['jet_features'][:]\n",
        "    particle_features_data = f['particle_features'][:]"
      ],
      "metadata": {
        "id": "Yeg_HgeTpmI4"
      },
      "execution_count": null,
      "outputs": []
    },
    {
      "cell_type": "code",
      "source": [
        "def explore_hdf5(filename):\n",
        "    with h5py.File(filename, 'r') as file:\n",
        "        # Explore the file's datasets\n",
        "        for name, dataset in file.items():\n",
        "            print(f\"Dataset name: {name}\")\n",
        "            print(f\"Shape: {dataset.shape}\")\n",
        "            print(f\"Datatype: {dataset.dtype}\")\n",
        "            print(f\"Content (first 1 elements): {dataset[:2]}\")\n",
        "            print(\"------\")\n",
        "\n",
        "        # If you specifically want to see the labels (assuming they are in a dataset named 'labels'):\n",
        "        if 'labels' in file:\n",
        "            print(f\"Labels: {file['labels'][:]}\")\n",
        "\n",
        "explore_hdf5(file_name)"
      ],
      "metadata": {
        "colab": {
          "base_uri": "https://localhost:8080/"
        },
        "id": "A6gKN39I0Db0",
        "outputId": "d30d36e5-dfd5-4dec-e2ca-ebed688e3ee1"
      },
      "execution_count": null,
      "outputs": [
        {
          "output_type": "stream",
          "name": "stdout",
          "text": [
            "Dataset name: jet_features\n",
            "Shape: (177945, 4)\n",
            "Datatype: float32\n",
            "Content (first 1 elements): [[ 1.00083856e+03 -1.02152944e+00  1.73566376e+02  3.00000000e+01]\n",
            " [ 9.81978027e+02 -1.26148816e-02  1.09439171e+02  3.00000000e+01]]\n",
            "------\n",
            "Dataset name: particle_features\n",
            "Shape: (177945, 30, 4)\n",
            "Datatype: float32\n",
            "Content (first 1 elements): [[[-1.53595209e-01  1.56128213e-01  9.74499434e-02  1.00000000e+00]\n",
            "  [ 3.48459519e-02 -5.12997173e-02  5.63035794e-02  1.00000000e+00]\n",
            "  [ 3.70894000e-02 -6.32425919e-02  5.48189804e-02  1.00000000e+00]\n",
            "  [ 5.59603274e-02 -9.16898996e-02  5.38143031e-02  1.00000000e+00]\n",
            "  [ 2.66186912e-02 -5.69021069e-02  5.33443168e-02  1.00000000e+00]\n",
            "  [ 6.22004308e-02 -8.14543292e-02  4.65002544e-02  1.00000000e+00]\n",
            "  [ 1.28914028e-01 -1.95329696e-01  3.87960188e-02  1.00000000e+00]\n",
            "  [ 4.87124994e-02 -6.40405789e-02  3.82680222e-02  1.00000000e+00]\n",
            "  [ 3.90293971e-02 -5.20421118e-02  3.79129350e-02  1.00000000e+00]\n",
            "  [ 5.69136292e-02 -2.26166807e-02  3.51505280e-02  1.00000000e+00]\n",
            "  [ 9.90293920e-02 -1.82107970e-01  3.04041579e-02  1.00000000e+00]\n",
            "  [ 2.04029441e-01  1.33051813e-01  2.75797918e-02  1.00000000e+00]\n",
            "  [ 1.60386220e-01  1.32508397e-01  2.60498095e-02  1.00000000e+00]\n",
            "  [ 3.40294316e-02 -5.70445843e-02  2.21957341e-02  1.00000000e+00]\n",
            "  [-1.60970584e-01  1.63067043e-01  1.96748339e-02  1.00000000e+00]\n",
            "  [ 2.42505014e-01  1.54611990e-01  1.84181258e-02  1.00000000e+00]\n",
            "  [ 3.48446481e-02 -9.98059735e-02  1.69776455e-02  1.00000000e+00]\n",
            "  [-9.46430638e-02  1.73275903e-01  1.44447358e-02  1.00000000e+00]\n",
            "  [ 1.91996530e-01  1.47126794e-01  1.40903955e-02  1.00000000e+00]\n",
            "  [ 7.53616390e-04 -3.64837199e-02  1.34032965e-02  1.00000000e+00]\n",
            "  [-2.46276274e-01 -5.00358306e-02  1.27508398e-02  1.00000000e+00]\n",
            "  [-7.34705403e-02  1.20545335e-01  1.26671419e-02  1.00000000e+00]\n",
            "  [-1.57594711e-01  1.52488634e-01  1.25000319e-02  1.00000000e+00]\n",
            "  [-1.68717340e-01  1.83672041e-01  1.16976304e-02  1.00000000e+00]\n",
            "  [-1.77861318e-01  1.52146712e-01  1.04598124e-02  1.00000000e+00]\n",
            "  [ 3.90886515e-02 -1.94804385e-01  1.00642079e-02  1.00000000e+00]\n",
            "  [ 8.65029469e-02 -1.77344114e-01  9.94254369e-03  1.00000000e+00]\n",
            "  [-5.29187173e-03 -7.28209168e-02  9.04601067e-03  1.00000000e+00]\n",
            "  [ 3.90293933e-02 -4.20370847e-02  9.04147420e-03  1.00000000e+00]\n",
            "  [ 1.90293938e-02 -5.20421080e-02  8.99195578e-03  1.00000000e+00]]\n",
            "\n",
            " [[ 6.76148832e-02  3.22158560e-02  1.18523411e-01  1.00000000e+00]\n",
            "  [ 7.12475479e-02  2.79868506e-02  1.06547058e-01  1.00000000e+00]\n",
            "  [ 6.24312013e-02  4.46183048e-02  9.46293175e-02  1.00000000e+00]\n",
            "  [-1.42467156e-01 -6.45372719e-02  7.99939260e-02  1.00000000e+00]\n",
            "  [ 5.11149652e-02  3.84163521e-02  6.61771595e-02  1.00000000e+00]\n",
            "  [ 6.10268600e-02  5.20689897e-02  6.16860464e-02  1.00000000e+00]\n",
            "  [-1.32595912e-01 -6.48366660e-02  6.15400225e-02  1.00000000e+00]\n",
            "  [-1.43080160e-01 -7.37251490e-02  5.89521639e-02  1.00000000e+00]\n",
            "  [-1.32744014e-01 -6.88717216e-02  5.21389917e-02  1.00000000e+00]\n",
            "  [ 5.50483130e-02  4.76537347e-02  4.48553599e-02  1.00000000e+00]\n",
            "  [ 7.26734251e-02  3.66271660e-02  3.59505117e-02  1.00000000e+00]\n",
            "  [ 5.92249073e-02  3.64141874e-02  2.88301259e-02  1.00000000e+00]\n",
            "  [ 6.30138069e-02  6.66773412e-03  2.78216675e-02  1.00000000e+00]\n",
            "  [ 9.13362801e-02 -1.49083072e-02  1.73639879e-02  1.00000000e+00]\n",
            "  [ 7.38112777e-02  2.28834376e-02  1.64110959e-02  1.00000000e+00]\n",
            "  [-1.32385120e-01 -6.78348169e-02  1.44650070e-02  1.00000000e+00]\n",
            "  [ 7.51148835e-02  9.70449112e-03  1.35448258e-02  1.00000000e+00]\n",
            "  [-1.19885109e-01 -6.03310764e-02  1.34402504e-02  1.00000000e+00]\n",
            "  [-1.39885128e-01 -7.03360811e-02  1.02975015e-02  1.00000000e+00]\n",
            "  [ 6.51148781e-02  3.97197269e-02  8.18966515e-03  1.00000000e+00]\n",
            "  [ 1.27614886e-01  4.22209911e-02  7.04058819e-03  1.00000000e+00]\n",
            "  [-1.51147664e-01  6.77143857e-02  6.83743646e-03  1.00000000e+00]\n",
            "  [-9.25006047e-02 -1.64250463e-01  6.21066522e-03  1.00000000e+00]\n",
            "  [-1.14055328e-01 -2.56693959e-02  6.13118568e-03  1.00000000e+00]\n",
            "  [ 1.42958373e-01 -6.60368726e-02  5.86649729e-03  1.00000000e+00]\n",
            "  [ 1.14881077e-04 -6.53335750e-02  5.55164227e-03  1.00000000e+00]\n",
            "  [-1.38118550e-01 -7.05510080e-02  5.40346187e-03  1.00000000e+00]\n",
            "  [-1.04885116e-01 -4.53234576e-02  4.12273314e-03  1.00000000e+00]\n",
            "  [ 2.20998637e-02  2.40755621e-02  3.90275195e-03  1.00000000e+00]\n",
            "  [ 4.01148796e-02  3.97197269e-02  3.67890345e-03  1.00000000e+00]]]\n",
            "------\n"
          ]
        }
      ]
    },
    {
      "cell_type": "markdown",
      "source": [
        "# Data Loading"
      ],
      "metadata": {
        "id": "2ZREj8wMzF-d"
      }
    },
    {
      "cell_type": "code",
      "source": [
        "path = '/content/drive/MyDrive/AE/Sparse_AE/jetnet/'\n",
        "\n",
        "def load_data_from_h5(filename):\n",
        "    with h5py.File(filename, 'r') as f:\n",
        "        #jet_features = f['jet_features'][:, :-1]  # rewrite to consider pt, eta, mass, number of particles accordingly\n",
        "        particle_features = f['particle_features'][:, :, :-1]  # excluding the mask column\n",
        "    #return jet_features, particle_features\n",
        "    return particle_features\n",
        "\n",
        "def select_top_particles(particle_data, n_particles=10):\n",
        "    # Original pT values for the first few jets\n",
        "    #print(\"Original pT values for the first jet:\", particle_data[0, :, 2])\n",
        "\n",
        "    sorted_indices = np.argsort(particle_data[:,:,2], axis=1)[:,::-1]\n",
        "    batch_size = particle_data.shape[0]\n",
        "    range_indices = np.arange(batch_size)[:,np.newaxis]\n",
        "    top_particle_data = particle_data[range_indices, sorted_indices[:,:n_particles]]\n",
        "\n",
        "    # Sorted pT values for the first few jets\n",
        "    #print(\"Sorted pT values for the first jet:\", top_particle_data[0, :, 2])\n",
        "\n",
        "    return top_particle_data\n",
        "\n",
        "def compute_mean_std(data):\n",
        "    means = data.mean(axis=0)\n",
        "    std_devs = data.std(axis=0)\n",
        "    return means, std_devs\n",
        "\n",
        "class ParticlePhysicsDataset(Dataset):\n",
        "    def __init__(self, jet_features, particle_features, train=True, mean=None, std=None):\n",
        "        # Reshape and concatenate data\n",
        "        #jet_data = jet_features.reshape(-1, 3)  # as we have 3 features: pt, eta, mass\n",
        "        particle_data = select_top_particles(particle_features).reshape(-1, 10*3)  # 10 top particles * 3 features each\n",
        "        #concatenated_data = np.concatenate((particle_data, jet_data), axis=1)\n",
        "\n",
        "        # Normalize\n",
        "        if train:\n",
        "            self.mean, self.std = compute_mean_std(particle_data)\n",
        "        else:\n",
        "            if mean is None or std is None:\n",
        "                raise ValueError(\"For test set, mean and std must be provided.\")\n",
        "            self.mean, self.std = mean, std\n",
        "        self.data = (particle_data - self.mean) / self.std\n",
        "        self.data = torch.tensor(self.data, dtype=torch.float32)\n",
        "\n",
        "    def __len__(self):\n",
        "        return len(self.data)\n",
        "\n",
        "    def __getitem__(self, idx):\n",
        "        return self.data[idx]\n",
        "\n",
        "def load_data_by_filetype(filepaths):\n",
        "    data_dict = {}\n",
        "    for filepath in filepaths:\n",
        "        filetype = filepath.split('/')[-1].split('.')[0]  # Extract the file type (g, q, t, w, z) from the filename\n",
        "        data_dict[filetype] = load_data_from_h5(filepath)\n",
        "    return data_dict\n",
        "\n",
        "# Filepaths for each data type\n",
        "background_files = [path + fname for fname in ['q.hdf5', 'g.hdf5']]\n",
        "signal_files = [path + fname for fname in ['t.hdf5', 'w.hdf5', 'z.hdf5']]\n",
        "\n",
        "# Load data by file type\n",
        "background_data = load_data_by_filetype(background_files)\n",
        "signal_data = load_data_by_filetype(signal_files)\n",
        "\n",
        "# Ensuring 50-50 split from both q and g for training and testing\n",
        "q_particles = background_data['q']\n",
        "g_particles = background_data['g']\n",
        "\n",
        "# Taking half of each background data type for training\n",
        "train_q = q_particles[:len(q_particles) // 2]\n",
        "train_g = g_particles[:len(g_particles) // 2]\n",
        "\n",
        "# And the other half for testing\n",
        "test_q = q_particles[len(q_particles) // 2:]\n",
        "test_g = g_particles[len(g_particles) // 2:]\n",
        "\n",
        "# Combining them together\n",
        "train_particle = np.vstack([train_q, train_g])\n",
        "test_particle = np.vstack([test_q, test_g])\n",
        "\n",
        "# Datasets for training and testing on background data\n",
        "train_dataset = ParticlePhysicsDataset(None, train_particle)\n",
        "test_dataset = ParticlePhysicsDataset(None, test_particle, train=False, mean=train_dataset.mean, std=train_dataset.std)\n",
        "\n",
        "# Datasets for each signal type\n",
        "signal_datasets = {}\n",
        "for key, particle in signal_data.items():\n",
        "    signal_datasets[key] = ParticlePhysicsDataset(None, particle, train=False, mean=train_dataset.mean, std=train_dataset.std)"
      ],
      "metadata": {
        "id": "P8VoqIXUznsH"
      },
      "execution_count": 3,
      "outputs": []
    },
    {
      "cell_type": "code",
      "source": [
        "train_dataloader = DataLoader(train_dataset, batch_size=512, shuffle=True)\n",
        "test_dataloader = DataLoader(test_dataset, batch_size=512, shuffle=False)  # No need to shuffle test data\n",
        "t_signal_dataloader = DataLoader(signal_datasets['t'], batch_size=512, shuffle=False)\n",
        "w_signal_dataloader = DataLoader(signal_datasets['w'], batch_size=512, shuffle=False)\n",
        "z_signal_dataloader = DataLoader(signal_datasets['z'], batch_size=512, shuffle=False)"
      ],
      "metadata": {
        "id": "D0j70HmIi4gA"
      },
      "execution_count": 33,
      "outputs": []
    },
    {
      "cell_type": "code",
      "source": [
        "def compute_dataloader_mean_std(dataloader):\n",
        "    # Initialize values for running mean and variance\n",
        "    running_sum = 0.0\n",
        "    running_squared_sum = 0.0\n",
        "    total_samples = 0\n",
        "\n",
        "    for batch in dataloader:\n",
        "        # Flatten the data batch as we only want feature-wise mean and std\n",
        "        flat_batch = batch.view(batch.size(0), -1)\n",
        "\n",
        "        running_sum += flat_batch.sum(dim=0)\n",
        "        running_squared_sum += (flat_batch ** 2).sum(dim=0)\n",
        "        total_samples += flat_batch.size(0)\n",
        "\n",
        "    feature_means = running_sum / total_samples\n",
        "    feature_variances = (running_squared_sum / total_samples) - (feature_means ** 2)\n",
        "    feature_stds = torch.sqrt(feature_variances)\n",
        "\n",
        "    # Compute overall mean and std\n",
        "    mean = feature_means.mean().item()\n",
        "    std = feature_stds.mean().item()\n",
        "    return mean, std\n",
        "\n",
        "dataloaders = {\n",
        "    'train': train_dataloader,\n",
        "    'test': test_dataloader,\n",
        "    't_signal': t_signal_dataloader,\n",
        "    'w_signal': w_signal_dataloader,\n",
        "    'z_signal': z_signal_dataloader\n",
        "}\n",
        "\n",
        "for name, dataloader in dataloaders.items():\n",
        "    mean, std = compute_dataloader_mean_std(dataloader)\n",
        "    print(f'{name} - Mean: {mean:.4f}, Std: {std:.4f}')"
      ],
      "metadata": {
        "colab": {
          "base_uri": "https://localhost:8080/"
        },
        "id": "M5fXQo5_Qd4n",
        "outputId": "cb769344-f179-4753-9523-9c7dea157bc4"
      },
      "execution_count": 34,
      "outputs": [
        {
          "output_type": "stream",
          "name": "stdout",
          "text": [
            "train - Mean: -0.0000, Std: 1.0000\n",
            "test - Mean: -0.0011, Std: 1.0012\n",
            "t_signal - Mean: -0.0071, Std: 1.6625\n",
            "w_signal - Mean: 0.0571, Std: 1.0863\n",
            "z_signal - Mean: 0.0507, Std: 1.1863\n"
          ]
        }
      ]
    },
    {
      "cell_type": "markdown",
      "source": [
        "# Methods and Plotting"
      ],
      "metadata": {
        "id": "jua8J3WkiDh-"
      }
    },
    {
      "cell_type": "code",
      "source": [
        "# returns tpr value for specific threshold\n",
        "# signal_losses is a tensor of individual losses for a given signal dataset\n",
        "def get_tpr(threshold, signal_losses):\n",
        "    tpr = torch.sum(signal_losses > threshold).float() / len(signal_losses)\n",
        "    return tpr\n",
        "\n",
        "# retruns threshold given an fpr\n",
        "def get_threshold(fpr, background_losses):\n",
        "    background_losses = background_losses.sort()[0] # Use PyTorch's sort function and pick values\n",
        "    num_false_pos = int(len(background_losses) * fpr)\n",
        "    threshold = background_losses[-num_false_pos]\n",
        "    return threshold\n",
        "\n",
        "#exponential linespace because we have a large threshold space to cover\n",
        "def powspace(start, stop, power, num):\n",
        "    start = np.power(start, 1/float(power))\n",
        "    stop = np.power(stop, 1/float(power))\n",
        "    return np.power( np.linspace(start, stop, num=num), power)\n",
        "\n",
        "def batch_MSE(input, output):\n",
        "    loss = torch.mean(torch.pow(input - output, 2), dim = 1)\n",
        "    return loss\n",
        "\n",
        "def get_losses(model, dataloader):\n",
        "    model.eval()\n",
        "    criterion = batch_MSE\n",
        "    device = torch.device(\"cuda\" if torch.cuda.is_available() else \"cpu\")\n",
        "    results = []\n",
        "    with torch.no_grad():\n",
        "        for data in dataloader:\n",
        "            data = data.float().to(device)\n",
        "            outputs = model(data)\n",
        "            losses = criterion(data, outputs)\n",
        "            results.append(losses)\n",
        "    return torch.cat(results, 0)\n",
        "\n",
        "def print_tprs(background_losses, signal_losses, fpr = 1e-5):\n",
        "    threshold = get_threshold(fpr, background_losses)\n",
        "    tpr = get_tpr(threshold, signal_losses)\n",
        "    print(f\"{tpr.item():.7f}\")\n",
        "\n",
        "def plot_auc(background_losses, list_of_signal_losses, list_of_signal_labels, num_fprs=100):\n",
        "    fprs = powspace(9e-6, 1, 5, num_fprs)\n",
        "\n",
        "    for signal_losses, signal_label in zip(list_of_signal_losses, list_of_signal_labels):\n",
        "        tprs = torch.zeros(num_fprs)\n",
        "        for fpr_idx, fpr in enumerate(fprs):\n",
        "            threshold = get_threshold(fpr, background_losses)\n",
        "            tpr = get_tpr(threshold, signal_losses)\n",
        "            tprs[fpr_idx] = tpr\n",
        "\n",
        "        # Plot curve for the current signal dataset\n",
        "        plt.plot(fprs, tprs.numpy(), label=f'{signal_label}, auc: {round(auc(fprs, tprs.numpy()), 2)}')\n",
        "\n",
        "    plt.semilogx()\n",
        "    plt.semilogy()\n",
        "    plt.ylabel(\"True Positive Rate\")\n",
        "    plt.xlabel(\"False Positive Rate\")\n",
        "    plt.legend(loc='center right')\n",
        "    plt.grid(True)\n",
        "    plt.tight_layout()\n",
        "    plt.plot(np.linspace(0, 1), np.linspace(0, 1), '--', color='0.75')\n",
        "    #plt.axvline(0.00001, color='red', linestyle='dashed', linewidth=1) # threshold value for measuring anomaly detection efficiency\n",
        "    plt.title(\"Particle (etarel, phirel, pT) ROC\")\n",
        "\n",
        "    plt.show()\n",
        "\n",
        "def plot_histogram(background_losses, list_of_signal_losses, list_of_signal_labels, bin_size):\n",
        "    # Make sure the number of signal loss tensors matches the number of labels\n",
        "    assert len(list_of_signal_losses) == len(list_of_signal_labels), \"Mismatch between number of signals and labels\"\n",
        "\n",
        "    # Calculate the total number of events\n",
        "    total_events = background_losses.size(0) + sum([loss.size(0) for loss in list_of_signal_losses])\n",
        "\n",
        "    plt.figure(figsize=(10,8))\n",
        "\n",
        "    # Weights for the background\n",
        "    background_weights = np.ones_like(background_losses.cpu().numpy()) * background_losses.size(0) / total_events\n",
        "\n",
        "    plt.hist(background_losses.cpu().numpy(), bins=bin_size, density=True, histtype='step', fill=False, linewidth=1.5, label='background', weights=background_weights)\n",
        "\n",
        "    # Now, iterate through each signal and plot it\n",
        "    for signal_losses, label in zip(list_of_signal_losses, list_of_signal_labels):\n",
        "        signal_weights = np.ones_like(signal_losses.cpu().numpy()) * signal_losses.size(0) / total_events\n",
        "        plt.hist(signal_losses.cpu().numpy(), bins=bin_size, density=True, histtype='step', fill=False, linewidth=1.5, label=label, weights=signal_weights)\n",
        "\n",
        "    #plt.yscale('log')\n",
        "    #plt.xscale('log')\n",
        "    plt.xlabel(\"Autoencoder Loss\")\n",
        "    plt.ylabel(\"Probability (a.u.)\")\n",
        "    plt.title('Particle (etarel, phirel, pT) MSE loss')\n",
        "    plt.legend()\n",
        "    plt.show()"
      ],
      "metadata": {
        "id": "NVhyL6oSozaC"
      },
      "execution_count": 35,
      "outputs": []
    },
    {
      "cell_type": "markdown",
      "source": [
        "# Model"
      ],
      "metadata": {
        "id": "5GUyx1Qdtgcb"
      }
    },
    {
      "cell_type": "code",
      "execution_count": 64,
      "metadata": {
        "id": "ccGeGmeQn1mP"
      },
      "outputs": [],
      "source": [
        "class Autoencoder(nn.Module):\n",
        "    def __init__(self, input_size = 30, latent_dim=2, dropout_rate=0):\n",
        "        super(Autoencoder, self).__init__()\n",
        "        # Encoder\n",
        "        self.encoder = nn.Sequential(\n",
        "            nn.BatchNorm1d(input_size),\n",
        "            self._init_weights(nn.Linear(input_size, 16)),\n",
        "            nn.BatchNorm1d(16),\n",
        "            nn.LeakyReLU(0.3),\n",
        "            nn.Dropout(dropout_rate),\n",
        "            self._init_weights(nn.Linear(16, 8)),\n",
        "            nn.LeakyReLU(0.3),\n",
        "            nn.Dropout(dropout_rate),\n",
        "            # self._init_weights(nn.Linear(512, 128)),\n",
        "            # nn.LeakyReLU(0.3),\n",
        "            # nn.Dropout(dropout_rate),\n",
        "            self._init_weights(nn.Linear(8, latent_dim))\n",
        "        )\n",
        "        # Decoder\n",
        "        self.decoder = nn.Sequential(\n",
        "            self._init_weights(nn.Linear(latent_dim, 8)),\n",
        "            nn.BatchNorm1d(8),\n",
        "            nn.LeakyReLU(0.3),\n",
        "            self._init_weights(nn.Linear(8, 16)),\n",
        "            nn.LeakyReLU(0.3),\n",
        "            # self._init_weights(nn.Linear(512, 1024)),\n",
        "            # nn.LeakyReLU(0.3),\n",
        "            self._init_weights(nn.Linear(16, input_size))\n",
        "        )\n",
        "\n",
        "    def forward(self, x):\n",
        "        x = self.encoder(x)\n",
        "        x = self.decoder(x)\n",
        "        return x\n",
        "\n",
        "    def _init_weights(self, layer): # implemented this to mimic the HeUniform in tf model\n",
        "        nn.init.kaiming_uniform_(layer.weight, a=0, mode='fan_in', nonlinearity='leaky_relu')\n",
        "        if layer.bias is not None:\n",
        "            nn.init.zeros_(layer.bias)\n",
        "        return layer\n",
        "\n",
        "def train(model, train_loader, num_epochs, lr = 0.001, early_stopping_patience=10, get_losses = False, val_loader = None):\n",
        "    # Init training optimizers\n",
        "    optimizer = optim.Adam(model.parameters(), lr = lr)\n",
        "    #optimizer = optim.Adagrad(model.parameters(), lr=lr)\n",
        "    #scheduler\n",
        "    scheduler = torch.optim.lr_scheduler.ReduceLROnPlateau(optimizer, 'min', factor=0.1, patience=2, verbose=True, min_lr=1E-6)\n",
        "    criterion = nn.MSELoss()\n",
        "    #criterion = mae_loss\n",
        "\n",
        "    best_model_state = None  # Save the best model's state dict here\n",
        "\n",
        "    train_losses = []\n",
        "    val_losses = []\n",
        "    best_val_loss = float('inf')\n",
        "    patience_counter = 0\n",
        "\n",
        "    device = next(model.parameters()).device # added for cuda\n",
        "\n",
        "    # Training loop\n",
        "    for epoch in range(num_epochs):\n",
        "        model.train()\n",
        "        train_loss = 0\n",
        "        for data in train_loader:\n",
        "            data = data.to(device)  # ensure data is on the same device as the model (added for cuda)\n",
        "            optimizer.zero_grad()\n",
        "            outputs = model(data)\n",
        "            loss = criterion(data, outputs)\n",
        "            loss.backward()\n",
        "            optimizer.step()\n",
        "            train_loss += loss.item()\n",
        "\n",
        "        print('epoch [{}/{}], Training loss:{:.4f}'.format(epoch + 1, num_epochs, train_loss / len(train_loader)))\n",
        "        if get_losses == True:\n",
        "            val_loss = test(model, val_loader)\n",
        "            train_losses.append(train_loss / len(train_loader))\n",
        "            val_losses.append(val_loss)\n",
        "\n",
        "            # Call the scheduler step with the current validation loss\n",
        "            scheduler.step(val_loss)\n",
        "\n",
        "            # Check for early stopping\n",
        "            if val_loss < best_val_loss:\n",
        "                best_val_loss = val_loss\n",
        "                best_model_state = copy.deepcopy(model.state_dict())  # Update best model state\n",
        "                patience_counter = 0\n",
        "            else:\n",
        "                patience_counter += 1\n",
        "\n",
        "            if patience_counter >= early_stopping_patience:\n",
        "                print(\"Early stopping triggered after {} epochs\".format(epoch + 1))\n",
        "                model.load_state_dict(best_model_state)  # Revert to best model state\n",
        "                break\n",
        "\n",
        "    if get_losses == True:\n",
        "        return train_losses, val_losses\n",
        "\n",
        "def test(model, dataloader):\n",
        "  # Testing the autoencoder\n",
        "  model.eval()\n",
        "  criterion = nn.MSELoss()\n",
        "  #criterion = mae_loss\n",
        "  test_loss = 0\n",
        "  with torch.no_grad():\n",
        "      for data in dataloader:\n",
        "          data = data.to(device)  # Move data to the device that the model is on\n",
        "          outputs = model(data)\n",
        "          loss = criterion(data, outputs)\n",
        "          test_loss += loss.item()\n",
        "\n",
        "  test_loss = test_loss / len(dataloader)\n",
        "\n",
        "  print('Loss: {:.4f}'.format(test_loss))\n",
        "  return test_loss"
      ]
    },
    {
      "cell_type": "code",
      "source": [
        "# Run training script\n",
        "device = torch.device(\"cuda\" if torch.cuda.is_available() else \"cpu\")\n",
        "model = Autoencoder().to(device)\n",
        "train_losses, val_losses = train(model, train_dataloader, num_epochs = 10, lr = .1, get_losses = True, val_loader = test_dataloader)"
      ],
      "metadata": {
        "colab": {
          "base_uri": "https://localhost:8080/"
        },
        "id": "QES_9RM3twdS",
        "outputId": "0c3b1ee9-5c72-4256-9e33-1e9c883b7da9"
      },
      "execution_count": 65,
      "outputs": [
        {
          "output_type": "stream",
          "name": "stdout",
          "text": [
            "epoch [1/10], Training loss:0.7475\n",
            "Loss: 0.7243\n",
            "epoch [2/10], Training loss:0.7207\n",
            "Loss: 0.7156\n",
            "epoch [3/10], Training loss:0.7154\n",
            "Loss: 0.7192\n",
            "epoch [4/10], Training loss:0.7115\n",
            "Loss: 0.7158\n",
            "epoch [5/10], Training loss:0.7084\n",
            "Loss: 0.7107\n",
            "epoch [6/10], Training loss:0.7070\n",
            "Loss: 0.7059\n",
            "epoch [7/10], Training loss:0.7063\n",
            "Loss: 0.7233\n",
            "epoch [8/10], Training loss:0.7057\n",
            "Loss: 0.7033\n",
            "epoch [9/10], Training loss:0.7042\n",
            "Loss: 0.7025\n",
            "epoch [10/10], Training loss:0.7051\n",
            "Loss: 0.7030\n"
          ]
        }
      ]
    },
    {
      "cell_type": "code",
      "source": [
        "background_losses = get_losses(model, test_dataloader)\n",
        "t_losses = get_losses(model, t_signal_dataloader)\n",
        "w_losses = get_losses(model, w_signal_dataloader)\n",
        "z_losses = get_losses(model, z_signal_dataloader)\n",
        "print_tprs(background_losses, t_losses, fpr = 1e-5)\n",
        "print_tprs(background_losses, w_losses, fpr = 1e-5)\n",
        "print_tprs(background_losses, z_losses, fpr = 1e-5)"
      ],
      "metadata": {
        "colab": {
          "base_uri": "https://localhost:8080/"
        },
        "id": "cF58o9rmt8_6",
        "outputId": "6563d960-5059-4aef-a74c-80254ff3dae8"
      },
      "execution_count": 66,
      "outputs": [
        {
          "output_type": "stream",
          "name": "stdout",
          "text": [
            "0.0000056\n",
            "0.0000000\n",
            "0.0000000\n"
          ]
        }
      ]
    },
    {
      "cell_type": "code",
      "source": [
        "plot_auc(background_losses, [t_losses, w_losses, z_losses], ['t', 'w', 'z'])"
      ],
      "metadata": {
        "colab": {
          "base_uri": "https://localhost:8080/",
          "height": 509
        },
        "id": "muczAh9puZ8D",
        "outputId": "5ce908de-732b-46ac-d9fd-a87398658c41"
      },
      "execution_count": 67,
      "outputs": [
        {
          "output_type": "display_data",
          "data": {
            "text/plain": [
              "<Figure size 640x480 with 1 Axes>"
            ],
            "image/png": "[encoded data removed]"
          },
          "metadata": {}
        }
      ]
    },
    {
      "cell_type": "code",
      "source": [
        "plot_histogram(background_losses, [t_losses, w_losses, z_losses], ['t', 'w', 'z'], bin_size = np.linspace(0, 6, 100))"
      ],
      "metadata": {
        "colab": {
          "base_uri": "https://localhost:8080/",
          "height": 718
        },
        "id": "EJAUIK6Pu5kc",
        "outputId": "dd1973bb-9817-4cb1-fd19-cdca6f888b27"
      },
      "execution_count": 47,
      "outputs": [
        {
          "output_type": "display_data",
          "data": {
            "text/plain": [
              "<Figure size 1000x800 with 1 Axes>"
            ],
            "image/png": "[encoded data removed]"
          },
          "metadata": {}
        }
      ]
    },
    {
      "cell_type": "code",
      "source": [],
      "metadata": {
        "id": "CFPhATMl-NVF"
      },
      "execution_count": null,
      "outputs": []
    }
  ]
}
